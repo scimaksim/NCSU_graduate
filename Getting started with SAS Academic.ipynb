{
 "cells": [
  {
   "cell_type": "markdown",
   "id": "limiting-earthquake",
   "metadata": {},
   "source": [
    "To start a SAS Academic session, run:"
   ]
  },
  {
   "cell_type": "code",
   "execution_count": null,
   "id": "civic-cabin",
   "metadata": {},
   "outputs": [],
   "source": [
    "import saspy\n",
    "my_session = saspy.SASsession()"
   ]
  },
  {
   "cell_type": "markdown",
   "id": "laden-change",
   "metadata": {},
   "source": [
    "You can then type SAS commands. \"The %%SAS magic enables you to submit the contents of a cell to your SAS session. The cell magic executes the contents of the cell and returns any results.\""
   ]
  },
  {
   "cell_type": "code",
   "execution_count": null,
   "id": "breathing-workstation",
   "metadata": {},
   "outputs": [],
   "source": [
    "%%SAS my_session\n",
    "proc print data=sashelp.class;\n",
    "run;\n",
    "\n",
    "data work.a;\n",
    "  set sashelp.cars;\n",
    "run;"
   ]
  },
  {
   "cell_type": "markdown",
   "id": "champion-tooth",
   "metadata": {},
   "source": [
    "<div class=\"alert alert-block alert-danger\">\n",
    "<b>Danger:</b> This alert box indicates a dangerous or potentially negative action.\n",
    "</div>\n",
    "\n",
    "<div class=\"alert alert-block alert-success\">\n",
    "<b>Success:</b> This alert box indicates a successful or positive action.\n",
    "</div>\n",
    "\n",
    "<div class=\"alert alert-block alert-warning\">\n",
    "<b>Example:</b> Use yellow boxes for examples that are not inside code cells, or use for mathematical formulas if needed. Typically also used to display warning messages.\n",
    "</div>\n",
    "\n",
    "<div class=\"alert alert-block alert-info\">\n",
    "<b>Tip:</b> Use blue boxes (alert-info) for tips and notes.</div>"
   ]
  },
  {
   "cell_type": "code",
   "execution_count": null,
   "id": "northern-consensus",
   "metadata": {},
   "outputs": [],
   "source": []
  }
 ],
 "metadata": {
  "kernelspec": {
   "display_name": "Python 3",
   "language": "python",
   "name": "python3"
  },
  "language_info": {
   "codemirror_mode": {
    "name": "ipython",
    "version": 3
   },
   "file_extension": ".py",
   "mimetype": "text/x-python",
   "name": "python",
   "nbconvert_exporter": "python",
   "pygments_lexer": "ipython3",
   "version": "3.8.5"
  }
 },
 "nbformat": 4,
 "nbformat_minor": 5
}
