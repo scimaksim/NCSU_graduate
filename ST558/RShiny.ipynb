{
 "cells": [
  {
   "cell_type": "markdown",
   "id": "40e50242-2e38-4c2c-a261-ee6dfa604c79",
   "metadata": {},
   "source": [
    "R Shiny is a package from R (developed by RStudio). We have a section of a file w"
   ]
  }
 ],
 "metadata": {
  "kernelspec": {
   "display_name": "R",
   "language": "R",
   "name": "ir"
  },
  "language_info": {
   "codemirror_mode": "r",
   "file_extension": ".r",
   "mimetype": "text/x-r-source",
   "name": "R",
   "pygments_lexer": "r",
   "version": "4.1.1"
  }
 },
 "nbformat": 4,
 "nbformat_minor": 5
}
