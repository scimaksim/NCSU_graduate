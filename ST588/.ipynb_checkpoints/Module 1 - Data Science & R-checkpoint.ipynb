{
 "cells": [
  {
   "cell_type": "markdown",
   "id": "9def038f",
   "metadata": {},
   "source": [
    "A package in R is a collection of functions that focus on a common topic (modeling, visualization, data manipulaion). "
   ]
  },
  {
   "cell_type": "code",
   "execution_count": null,
   "id": "8cfce7fd",
   "metadata": {},
   "outputs": [],
   "source": []
  }
 ],
 "metadata": {
  "kernelspec": {
   "display_name": "R",
   "language": "R",
   "name": "ir"
  },
  "language_info": {
   "codemirror_mode": "r",
   "file_extension": ".r",
   "mimetype": "text/x-r-source",
   "name": "R",
   "pygments_lexer": "r",
   "version": "3.6.1"
  }
 },
 "nbformat": 4,
 "nbformat_minor": 5
}
