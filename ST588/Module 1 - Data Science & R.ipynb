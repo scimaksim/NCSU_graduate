{
 "cells": [
  {
   "cell_type": "markdown",
   "id": "32dbd632",
   "metadata": {},
   "source": [
    "## Lecture 1\n",
    "\n",
    "A package in R is a collection of functions that focus on a common topic (modeling, visualization, data manipulaion). Functions are everywhere in R, and we can get help for them by using `help()`."
   ]
  },
  {
   "cell_type": "code",
   "execution_count": 2,
   "id": "9cfbab75",
   "metadata": {},
   "outputs": [
    {
     "data": {
      "text/html": [
       "10"
      ],
      "text/latex": [
       "10"
      ],
      "text/markdown": [
       "10"
      ],
      "text/plain": [
       "[1] 10"
      ]
     },
     "metadata": {},
     "output_type": "display_data"
    },
    {
     "data": {
      "text/html": [
       "200.855369231877"
      ],
      "text/latex": [
       "200.855369231877"
      ],
      "text/markdown": [
       "200.855369231877"
      ],
      "text/plain": [
       "[1] 200.8554"
      ]
     },
     "metadata": {},
     "output_type": "display_data"
    },
    {
     "data": {
      "text/html": [
       "2.2894597716988"
      ],
      "text/latex": [
       "2.2894597716988"
      ],
      "text/markdown": [
       "2.2894597716988"
      ],
      "text/plain": [
       "[1] 2.28946"
      ]
     },
     "metadata": {},
     "output_type": "display_data"
    }
   ],
   "source": [
    "# Simple math operators\n",
    "3 + 7\n",
    "10 * exp(3)\n",
    "log(pi^2)"
   ]
  },
  {
   "cell_type": "markdown",
   "id": "f3e56797",
   "metadata": {},
   "source": [
    "R has a built-in data set called \"cars\". The `print` and `plot` functions can take an object (e.g. \"cars\"), figure out its object type, and print or plot the object appropriately."
   ]
  },
  {
   "cell_type": "code",
   "execution_count": 19,
   "id": "2f5d9cb2",
   "metadata": {},
   "outputs": [
    {
     "name": "stdout",
     "output_type": "stream",
     "text": [
      "   speed dist\n",
      "1      4    2\n",
      "2      4   10\n",
      "3      7    4\n",
      "4      7   22\n",
      "5      8   16\n",
      "6      9   10\n",
      "7     10   18\n",
      "8     10   26\n",
      "9     10   34\n",
      "10    11   17\n",
      "11    11   28\n",
      "12    12   14\n",
      "13    12   20\n",
      "14    12   24\n",
      "15    12   28\n",
      "16    13   26\n",
      "17    13   34\n",
      "18    13   34\n",
      "19    13   46\n",
      "20    14   26\n",
      "21    14   36\n",
      "22    14   60\n",
      "23    14   80\n",
      "24    15   20\n",
      "25    15   26\n",
      "26    15   54\n",
      "27    16   32\n",
      "28    16   40\n",
      "29    17   32\n",
      "30    17   40\n",
      "31    17   50\n",
      "32    18   42\n",
      "33    18   56\n",
      "34    18   76\n",
      "35    18   84\n",
      "36    19   36\n",
      "37    19   46\n",
      "38    19   68\n",
      "39    20   32\n",
      "40    20   48\n",
      "41    20   52\n",
      "42    20   56\n",
      "43    20   64\n",
      "44    22   66\n",
      "45    23   54\n",
      "46    24   70\n",
      "47    24   92\n",
      "48    24   93\n",
      "49    24  120\n",
      "50    25   85\n"
     ]
    },
    {
     "data": {
      "image/png": "[encoded data removed]",
      "text/plain": [
       "plot without title"
      ]
     },
     "metadata": {},
     "output_type": "display_data"
    }
   ],
   "source": [
    "# Built-in \"cars\" data set, print and plot speed and distance\n",
    "print(cars)\n",
    "plot(cars)"
   ]
  },
  {
   "cell_type": "markdown",
   "id": "95741291",
   "metadata": {},
   "source": [
    "R has strong Object Oriented Programming (OOP) Tools, where an **object** is a data structure with some attributes. We can determine the structure of an object using the `str` (\"structure\") function."
   ]
  },
  {
   "cell_type": "code",
   "execution_count": 4,
   "id": "a64fbf34",
   "metadata": {
    "scrolled": true
   },
   "outputs": [
    {
     "name": "stdout",
     "output_type": "stream",
     "text": [
      "'data.frame':\t50 obs. of  2 variables:\n",
      " $ speed: num  4 4 7 7 8 9 10 10 10 11 ...\n",
      " $ dist : num  2 10 4 22 16 10 18 26 34 17 ...\n"
     ]
    }
   ],
   "source": [
    "# Determine the structure of the \"cars\" object\n",
    "str(cars)"
   ]
  },
  {
   "cell_type": "markdown",
   "id": "425f59c5",
   "metadata": {},
   "source": [
    "Here, we see that \"cars\" is an object with the attribute `data.frame`. There are functions that know what to do with specific types of objects."
   ]
  },
  {
   "cell_type": "markdown",
   "id": "9d3aafd4",
   "metadata": {},
   "source": [
    "We can take something with more than two columns, such as the \"iris\" data set, and determine its structure."
   ]
  },
  {
   "cell_type": "code",
   "execution_count": 6,
   "id": "50cf5b01",
   "metadata": {},
   "outputs": [
    {
     "name": "stdout",
     "output_type": "stream",
     "text": [
      "'data.frame':\t150 obs. of  5 variables:\n",
      " $ Sepal.Length: num  5.1 4.9 4.7 4.6 5 5.4 4.6 5 4.4 4.9 ...\n",
      " $ Sepal.Width : num  3.5 3 3.2 3.1 3.6 3.9 3.4 3.4 2.9 3.1 ...\n",
      " $ Petal.Length: num  1.4 1.4 1.3 1.5 1.4 1.7 1.4 1.5 1.4 1.5 ...\n",
      " $ Petal.Width : num  0.2 0.2 0.2 0.2 0.2 0.4 0.3 0.2 0.2 0.1 ...\n",
      " $ Species     : Factor w/ 3 levels \"setosa\",\"versicolor\",..: 1 1 1 1 1 1 1 1 1 1 ...\n"
     ]
    }
   ],
   "source": [
    "# Determine the structure of the \"iris\" flower data set\n",
    "str(iris)"
   ]
  },
  {
   "cell_type": "code",
   "execution_count": 7,
   "id": "649e60cf",
   "metadata": {},
   "outputs": [
    {
     "data": {
      "image/png": "[encoded data removed]",
      "text/plain": [
       "plot without title"
      ]
     },
     "metadata": {},
     "output_type": "display_data"
    }
   ],
   "source": [
    "# We can also plot \"iris\"\n",
    "plot(iris)"
   ]
  },
  {
   "cell_type": "markdown",
   "id": "27b887ea",
   "metadata": {},
   "source": [
    "We can save objects for later use. "
   ]
  },
  {
   "cell_type": "code",
   "execution_count": 10,
   "id": "dc0f39e2",
   "metadata": {},
   "outputs": [
    {
     "data": {
      "text/html": [
       "6"
      ],
      "text/latex": [
       "6"
      ],
      "text/markdown": [
       "6"
      ],
      "text/plain": [
       "[1] 6"
      ]
     },
     "metadata": {},
     "output_type": "display_data"
    },
    {
     "data": {
      "text/html": [
       "'Hello, there!'"
      ],
      "text/latex": [
       "'Hello, there!'"
      ],
      "text/markdown": [
       "'Hello, there!'"
      ],
      "text/plain": [
       "[1] \"Hello, there!\""
      ]
     },
     "metadata": {},
     "output_type": "display_data"
    }
   ],
   "source": [
    "# Save for later use (storage arrow is preferred over equal sign)\n",
    "avg <- (5 + 7 + 6) / 3\n",
    "\n",
    "# Call avg object\n",
    "avg\n",
    "\n",
    "# Save strings (text)\n",
    "words = \"Hello, there!\"\n",
    "words"
   ]
  },
  {
   "cell_type": "markdown",
   "id": "4307d05c",
   "metadata": {},
   "source": [
    "## Lecture 2 - Common Data Objects\n",
    "\n",
    "There are 5 major data structures:\n",
    "1. Atomic vector (1-D)\n",
    "2. Matrix (2-D)\n",
    "3. Array\n",
    "4. Data frame (2-D)\n",
    "5. List (1-D)\n",
    "\n"
   ]
  },
  {
   "cell_type": "markdown",
   "id": "362dd14b",
   "metadata": {},
   "source": [
    "#### Atomic vector (one-dimenstional)\n",
    "Most basic. A vector is a set of elements with some kind of ordering (first element, second element, third element, etc.). We use the function `c()` to **c**ombine values. "
   ]
  },
  {
   "cell_type": "code",
   "execution_count": 11,
   "id": "0a0aecb5",
   "metadata": {},
   "outputs": [
    {
     "data": {
      "text/html": [
       "<ol class=list-inline>\n",
       "\t<li>1</li>\n",
       "\t<li>3</li>\n",
       "\t<li>10</li>\n",
       "\t<li>-20</li>\n",
       "\t<li>1.4142135623731</li>\n",
       "</ol>\n"
      ],
      "text/latex": [
       "\\begin{enumerate*}\n",
       "\\item 1\n",
       "\\item 3\n",
       "\\item 10\n",
       "\\item -20\n",
       "\\item 1.4142135623731\n",
       "\\end{enumerate*}\n"
      ],
      "text/markdown": [
       "1. 1\n",
       "2. 3\n",
       "3. 10\n",
       "4. -20\n",
       "5. 1.4142135623731\n",
       "\n",
       "\n"
      ],
      "text/plain": [
       "[1]   1.000000   3.000000  10.000000 -20.000000   1.414214"
      ]
     },
     "metadata": {},
     "output_type": "display_data"
    },
    {
     "data": {
      "text/html": [
       "<ol class=list-inline>\n",
       "\t<li>'cat'</li>\n",
       "\t<li>'dog'</li>\n",
       "\t<li>'bird'</li>\n",
       "\t<li>'floor'</li>\n",
       "</ol>\n"
      ],
      "text/latex": [
       "\\begin{enumerate*}\n",
       "\\item 'cat'\n",
       "\\item 'dog'\n",
       "\\item 'bird'\n",
       "\\item 'floor'\n",
       "\\end{enumerate*}\n"
      ],
      "text/markdown": [
       "1. 'cat'\n",
       "2. 'dog'\n",
       "3. 'bird'\n",
       "4. 'floor'\n",
       "\n",
       "\n"
      ],
      "text/plain": [
       "[1] \"cat\"   \"dog\"   \"bird\"  \"floor\""
      ]
     },
     "metadata": {},
     "output_type": "display_data"
    }
   ],
   "source": [
    "# Combine values into 1-dimensional atomic vector\n",
    "# All elements are of the same type\n",
    "x <- c(1, 3, 10, -20, sqrt(2))\n",
    "y <- c(\"cat\", \"dog\", \"bird\", \"floor\")\n",
    "\n",
    "x\n",
    "y"
   ]
  },
  {
   "cell_type": "markdown",
   "id": "a463a607",
   "metadata": {},
   "source": [
    "We can use a short-hand to make sequences. The output is a vector."
   ]
  },
  {
   "cell_type": "code",
   "execution_count": 16,
   "id": "1d46e8a3",
   "metadata": {},
   "outputs": [
    {
     "data": {
      "text/html": [
       "<ol class=list-inline>\n",
       "\t<li>0.05</li>\n",
       "\t<li>0.1</li>\n",
       "\t<li>0.15</li>\n",
       "\t<li>0.2</li>\n",
       "\t<li>0.25</li>\n",
       "\t<li>0.3</li>\n",
       "\t<li>0.35</li>\n",
       "\t<li>0.4</li>\n",
       "\t<li>0.45</li>\n",
       "\t<li>0.5</li>\n",
       "\t<li>0.55</li>\n",
       "\t<li>0.6</li>\n",
       "\t<li>0.65</li>\n",
       "\t<li>0.7</li>\n",
       "\t<li>0.75</li>\n",
       "\t<li>0.8</li>\n",
       "\t<li>0.85</li>\n",
       "\t<li>0.9</li>\n",
       "\t<li>0.95</li>\n",
       "\t<li>1</li>\n",
       "</ol>\n"
      ],
      "text/latex": [
       "\\begin{enumerate*}\n",
       "\\item 0.05\n",
       "\\item 0.1\n",
       "\\item 0.15\n",
       "\\item 0.2\n",
       "\\item 0.25\n",
       "\\item 0.3\n",
       "\\item 0.35\n",
       "\\item 0.4\n",
       "\\item 0.45\n",
       "\\item 0.5\n",
       "\\item 0.55\n",
       "\\item 0.6\n",
       "\\item 0.65\n",
       "\\item 0.7\n",
       "\\item 0.75\n",
       "\\item 0.8\n",
       "\\item 0.85\n",
       "\\item 0.9\n",
       "\\item 0.95\n",
       "\\item 1\n",
       "\\end{enumerate*}\n"
      ],
      "text/markdown": [
       "1. 0.05\n",
       "2. 0.1\n",
       "3. 0.15\n",
       "4. 0.2\n",
       "5. 0.25\n",
       "6. 0.3\n",
       "7. 0.35\n",
       "8. 0.4\n",
       "9. 0.45\n",
       "10. 0.5\n",
       "11. 0.55\n",
       "12. 0.6\n",
       "13. 0.65\n",
       "14. 0.7\n",
       "15. 0.75\n",
       "16. 0.8\n",
       "17. 0.85\n",
       "18. 0.9\n",
       "19. 0.95\n",
       "20. 1\n",
       "\n",
       "\n"
      ],
      "text/plain": [
       " [1] 0.05 0.10 0.15 0.20 0.25 0.30 0.35 0.40 0.45 0.50 0.55 0.60 0.65 0.70 0.75\n",
       "[16] 0.80 0.85 0.90 0.95 1.00"
      ]
     },
     "metadata": {},
     "output_type": "display_data"
    }
   ],
   "source": [
    "# Short-hand for sequences and element-wise division\n",
    "# This divides each integer (1-20) by 20\n",
    "1:20 / 20"
   ]
  },
  {
   "cell_type": "markdown",
   "id": "64bb7eec",
   "metadata": {},
   "source": [
    "More involved sequences can be created using the `seq()` (\"sequence\") function. Again, the output is a vector."
   ]
  },
  {
   "cell_type": "code",
   "execution_count": 24,
   "id": "c696a750",
   "metadata": {},
   "outputs": [
    {
     "data": {
      "text/html": [
       "<ol class=list-inline>\n",
       "\t<li>1</li>\n",
       "\t<li>3</li>\n",
       "\t<li>5</li>\n",
       "\t<li>7</li>\n",
       "\t<li>9</li>\n",
       "</ol>\n"
      ],
      "text/latex": [
       "\\begin{enumerate*}\n",
       "\\item 1\n",
       "\\item 3\n",
       "\\item 5\n",
       "\\item 7\n",
       "\\item 9\n",
       "\\end{enumerate*}\n"
      ],
      "text/markdown": [
       "1. 1\n",
       "2. 3\n",
       "3. 5\n",
       "4. 7\n",
       "5. 9\n",
       "\n",
       "\n"
      ],
      "text/plain": [
       "[1] 1 3 5 7 9"
      ]
     },
     "metadata": {},
     "output_type": "display_data"
    },
    {
     "data": {
      "text/html": [
       "<ol class=list-inline>\n",
       "\t<li>1</li>\n",
       "\t<li>2</li>\n",
       "\t<li>3</li>\n",
       "\t<li>4</li>\n",
       "\t<li>5</li>\n",
       "</ol>\n"
      ],
      "text/latex": [
       "\\begin{enumerate*}\n",
       "\\item 1\n",
       "\\item 2\n",
       "\\item 3\n",
       "\\item 4\n",
       "\\item 5\n",
       "\\end{enumerate*}\n"
      ],
      "text/markdown": [
       "1. 1\n",
       "2. 2\n",
       "3. 3\n",
       "4. 4\n",
       "5. 5\n",
       "\n",
       "\n"
      ],
      "text/plain": [
       "[1] 1 2 3 4 5"
      ]
     },
     "metadata": {},
     "output_type": "display_data"
    }
   ],
   "source": [
    "# Customize the sequence\n",
    "seq(from = 1, to = 10, by = 2)\n",
    "seq(to = 5)\n",
    "# help(seq)"
   ]
  },
  {
   "cell_type": "markdown",
   "id": "6cc4efd6",
   "metadata": {},
   "source": [
    "There are also many ways to do random number generation. One such way is to use `runif` (pronounced \"r-unif\")."
   ]
  },
  {
   "cell_type": "code",
   "execution_count": 23,
   "id": "9f659cda",
   "metadata": {},
   "outputs": [
    {
     "data": {
      "text/html": [
       "<ol class=list-inline>\n",
       "\t<li>0.293882327852771</li>\n",
       "\t<li>0.106889901217073</li>\n",
       "\t<li>0.740900593344122</li>\n",
       "\t<li>0.0684911671560258</li>\n",
       "</ol>\n"
      ],
      "text/latex": [
       "\\begin{enumerate*}\n",
       "\\item 0.293882327852771\n",
       "\\item 0.106889901217073\n",
       "\\item 0.740900593344122\n",
       "\\item 0.0684911671560258\n",
       "\\end{enumerate*}\n"
      ],
      "text/markdown": [
       "1. 0.293882327852771\n",
       "2. 0.106889901217073\n",
       "3. 0.740900593344122\n",
       "4. 0.0684911671560258\n",
       "\n",
       "\n"
      ],
      "text/plain": [
       "[1] 0.29388233 0.10688990 0.74090059 0.06849117"
      ]
     },
     "metadata": {},
     "output_type": "display_data"
    }
   ],
   "source": [
    "# Generate 4 random numbers between 0 and 1\n",
    "runif(4, min = 0, max = 1)\n",
    "# help(runif)"
   ]
  }
 ],
 "metadata": {
  "kernelspec": {
   "display_name": "R",
   "language": "R",
   "name": "ir"
  },
  "language_info": {
   "codemirror_mode": "r",
   "file_extension": ".r",
   "mimetype": "text/x-r-source",
   "name": "R",
   "pygments_lexer": "r",
   "version": "3.6.1"
  }
 },
 "nbformat": 4,
 "nbformat_minor": 5
}
