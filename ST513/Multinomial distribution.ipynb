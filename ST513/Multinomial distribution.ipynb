{
 "cells": [
  {
   "cell_type": "markdown",
   "id": "incorrect-roads",
   "metadata": {},
   "source": [
    "To start a SAS Academic session, run:"
   ]
  },
  {
   "cell_type": "code",
   "execution_count": null,
   "id": "beginning-scanning",
   "metadata": {},
   "outputs": [],
   "source": [
    "import saspy\n",
    "my_session = saspy.SASsession()"
   ]
  },
  {
   "cell_type": "markdown",
   "id": "graphic-battle",
   "metadata": {},
   "source": [
    "You can then type SAS commands. \"The %%SAS magic enables you to submit the contents of a cell to your SAS session. The cell magic executes the contents of the cell and returns any results.\""
   ]
  },
  {
   "cell_type": "code",
   "execution_count": null,
   "id": "casual-oliver",
   "metadata": {},
   "outputs": [],
   "source": [
    "%%SAS my_session\n",
    "proc print data=sashelp.class;\n",
    "run;\n",
    "\n",
    "data work.a;\n",
    "  set sashelp.cars;\n",
    "run;"
   ]
  },
  {
   "cell_type": "markdown",
   "id": "velvet-cartoon",
   "metadata": {},
   "source": [
    "### February 27\n",
    "## Multinomial distribution\n",
    "Assessing probability of multiple variables occuring at the same time. We make the same assumptions as for a binomial:\n",
    "* Trials result in only 1 of _k_ outcomes\n",
    "* Sequences of _n_ independent trials\n",
    "* Same probabilities associated with each trial\n",
    "\n",
    "\n",
    "**Example:** Among residential customers traveling from Raleigh to Washington, DC, there are three main choices:\n",
    "* Plane - 45% of travelers\n",
    "* Car/bus - 35% of travelers\n",
    "* Train - 20% of travelers\n",
    "\n",
    "If 12 randmoly selected people travel, what is the probability that 5 travel by plane, 4 travel by car/bus, and 3 travel by train? \n",
    "\n",
    "**Answer:**\n",
    "Probabilities must sum to 1, _n_ is the number of independent trials, and _y_'s must sum to _n_. In this case\n",
    "$$\n",
    " y_1+y_2+y_3 = 5 + 4 + 3 = 12 \\\\\n",
    "$$\n",
    "The multinomial distribution is given by\n",
    "$$\n",
    "\\begin{pmatrix}\n",
    "Y_1 \\\\ Y_2 \\\\ Y_3\n",
    "\\end{pmatrix}\n",
    "\\sim multinomial(12,0.45,0.35,0.2) \\\\\n",
    "p(y_1,y_2,y_3) = p(5,4,3) = \\frac { 12! } { y_1!y_2!y_3! }0.45^{y_1}0.35^{y_2}0.2^{y_3} = \\frac { 12! } { y_1!y_2!y_3! }0.45^{5}0.35^{4}0.2^{3} = 0.0614\n",
    "$$"
   ]
  },
  {
   "cell_type": "markdown",
   "id": "czech-grade",
   "metadata": {},
   "source": [
    "#### Quiz\n",
    "**$Q_{1}$:** Why is the multinomial considered a _joint_ distribution?\n",
    "\n",
    "**$A_{1}$:** The multinomial is concerned with the distribution of more than one random variable (RV).  This makes it a joint distribution!  Specifically, it is concerned with\n",
    "\n",
    "\n",
    "  + $Y_{1}$ = # of observations in category 1\n",
    "    \n",
    "  + $Y_{2}$ = # of observations in category 2\n",
    "    \n",
    "  ...\n",
    "    \n",
    "  + $Y_{k}$ = # of observations in category _k_\n",
    "\n",
    "---\n",
    "\n",
    "**$Q_{2}$:** How are the multinomial and the binomial related?\n",
    "\n",
    "**$A_{2}$:** Take one of the categories of the multinomial and label it a “success”. Label all the other categories a “failure”. The random variable corresponding to the number of observations falling into the success category is a binomial random variable. \n",
    "\n",
    "Thisn is true if you look at any one random variable from the multinomial.  We say that ‘marginally’ each $Y_{i}$ follows a binomial.\n",
    "_________________________________________________________________________________________________"
   ]
  },
  {
   "cell_type": "markdown",
   "id": "studied-anaheim",
   "metadata": {},
   "source": [
    "## Contingency tables\n",
    "Contingency tables summarize the _frequency_ or the _proportion_ of observations that fall into a category (or a combination of categories when looking at multi-way tables).  \n",
    "* One-way tables summarize one variable\n",
    "* Two-way tables summarize two variables\n",
    "* _N_-way tables summarize _N_ variables, but these are more difficult to visualize"
   ]
  },
  {
   "cell_type": "code",
   "execution_count": null,
   "id": "circular-vocabulary",
   "metadata": {},
   "outputs": [],
   "source": []
  }
 ],
 "metadata": {
  "kernelspec": {
   "display_name": "Python 3",
   "language": "python",
   "name": "python3"
  },
  "language_info": {
   "codemirror_mode": {
    "name": "ipython",
    "version": 3
   },
   "file_extension": ".py",
   "mimetype": "text/x-python",
   "name": "python",
   "nbconvert_exporter": "python",
   "pygments_lexer": "ipython3",
   "version": "3.8.5"
  }
 },
 "nbformat": 4,
 "nbformat_minor": 5
}
