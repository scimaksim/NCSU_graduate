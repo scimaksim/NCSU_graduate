{
 "cells": [
  {
   "cell_type": "markdown",
   "metadata": {},
   "source": [
    "To start a SAS Academic session, run:"
   ]
  },
  {
   "cell_type": "code",
   "execution_count": 6,
   "metadata": {},
   "outputs": [
    {
     "name": "stdout",
     "output_type": "stream",
     "text": [
      "Using SAS Config named: default\n"
     ]
    },
    {
     "ename": "SASIONotSupportedError",
     "evalue": "Cannot use STDIO I/O module on Windows. Try the following: IOM",
     "output_type": "error",
     "traceback": [
      "\u001b[1;31m---------------------------------------------------------------------------\u001b[0m",
      "\u001b[1;31mSASIONotSupportedError\u001b[0m                    Traceback (most recent call last)",
      "\u001b[1;32m<ipython-input-6-c0983251b0ea>\u001b[0m in \u001b[0;36m<module>\u001b[1;34m\u001b[0m\n\u001b[0;32m      1\u001b[0m \u001b[1;32mimport\u001b[0m \u001b[0msaspy\u001b[0m\u001b[1;33m\u001b[0m\u001b[1;33m\u001b[0m\u001b[0m\n\u001b[1;32m----> 2\u001b[1;33m \u001b[0mmy_session\u001b[0m \u001b[1;33m=\u001b[0m \u001b[0msaspy\u001b[0m\u001b[1;33m.\u001b[0m\u001b[0mSASsession\u001b[0m\u001b[1;33m(\u001b[0m\u001b[1;33m)\u001b[0m\u001b[1;33m\u001b[0m\u001b[1;33m\u001b[0m\u001b[0m\n\u001b[0m",
      "\u001b[1;32m~\\anaconda3\\lib\\site-packages\\saspy\\sasbase.py\u001b[0m in \u001b[0;36m__init__\u001b[1;34m(self, **kwargs)\u001b[0m\n\u001b[0;32m    492\u001b[0m                 \u001b[0mself\u001b[0m\u001b[1;33m.\u001b[0m\u001b[0m_io\u001b[0m \u001b[1;33m=\u001b[0m \u001b[0mSASsessionSTDIO\u001b[0m\u001b[1;33m(\u001b[0m\u001b[0msascfgname\u001b[0m\u001b[1;33m=\u001b[0m\u001b[0mself\u001b[0m\u001b[1;33m.\u001b[0m\u001b[0msascfg\u001b[0m\u001b[1;33m.\u001b[0m\u001b[0mname\u001b[0m\u001b[1;33m,\u001b[0m \u001b[0msb\u001b[0m\u001b[1;33m=\u001b[0m\u001b[0mself\u001b[0m\u001b[1;33m,\u001b[0m \u001b[1;33m**\u001b[0m\u001b[0mkwargs\u001b[0m\u001b[1;33m)\u001b[0m\u001b[1;33m\u001b[0m\u001b[1;33m\u001b[0m\u001b[0m\n\u001b[0;32m    493\u001b[0m             \u001b[1;32melse\u001b[0m\u001b[1;33m:\u001b[0m\u001b[1;33m\u001b[0m\u001b[1;33m\u001b[0m\u001b[0m\n\u001b[1;32m--> 494\u001b[1;33m                 \u001b[1;32mraise\u001b[0m \u001b[0mSASIONotSupportedError\u001b[0m\u001b[1;33m(\u001b[0m\u001b[0mself\u001b[0m\u001b[1;33m.\u001b[0m\u001b[0msascfg\u001b[0m\u001b[1;33m.\u001b[0m\u001b[0mmode\u001b[0m\u001b[1;33m,\u001b[0m \u001b[0malts\u001b[0m\u001b[1;33m=\u001b[0m\u001b[1;33m[\u001b[0m\u001b[1;34m'IOM'\u001b[0m\u001b[1;33m]\u001b[0m\u001b[1;33m)\u001b[0m\u001b[1;33m\u001b[0m\u001b[1;33m\u001b[0m\u001b[0m\n\u001b[0m\u001b[0;32m    495\u001b[0m         \u001b[1;32melif\u001b[0m \u001b[0mself\u001b[0m\u001b[1;33m.\u001b[0m\u001b[0msascfg\u001b[0m\u001b[1;33m.\u001b[0m\u001b[0mmode\u001b[0m \u001b[1;33m==\u001b[0m \u001b[1;34m'IOM'\u001b[0m\u001b[1;33m:\u001b[0m\u001b[1;33m\u001b[0m\u001b[1;33m\u001b[0m\u001b[0m\n\u001b[0;32m    496\u001b[0m             \u001b[0mself\u001b[0m\u001b[1;33m.\u001b[0m\u001b[0m_io\u001b[0m \u001b[1;33m=\u001b[0m \u001b[0mSASsessionIOM\u001b[0m\u001b[1;33m(\u001b[0m\u001b[0msascfgname\u001b[0m\u001b[1;33m=\u001b[0m\u001b[0mself\u001b[0m\u001b[1;33m.\u001b[0m\u001b[0msascfg\u001b[0m\u001b[1;33m.\u001b[0m\u001b[0mname\u001b[0m\u001b[1;33m,\u001b[0m \u001b[0msb\u001b[0m\u001b[1;33m=\u001b[0m\u001b[0mself\u001b[0m\u001b[1;33m,\u001b[0m \u001b[1;33m**\u001b[0m\u001b[0mkwargs\u001b[0m\u001b[1;33m)\u001b[0m\u001b[1;33m\u001b[0m\u001b[1;33m\u001b[0m\u001b[0m\n",
      "\u001b[1;31mSASIONotSupportedError\u001b[0m: Cannot use STDIO I/O module on Windows. Try the following: IOM"
     ]
    }
   ],
   "source": [
    "import saspy\n",
    "my_session = saspy.SASsession()"
   ]
  },
  {
   "cell_type": "markdown",
   "metadata": {},
   "source": [
    "You can then type SAS commands. \"The %%SAS magic enables you to submit the contents of a cell to your SAS session. The cell magic executes the contents of the cell and returns any results.\""
   ]
  },
  {
   "cell_type": "code",
   "execution_count": 5,
   "metadata": {},
   "outputs": [
    {
     "data": {
      "text/plain": [
       "'Invalid SAS Session object supplied'"
      ]
     },
     "execution_count": 5,
     "metadata": {},
     "output_type": "execute_result"
    }
   ],
   "source": [
    "%%SAS my_session\n",
    "proc print data=sashelp.class;\n",
    "run;\n",
    "\n",
    "data work.a;\n",
    "  set sashelp.cars;\n",
    "run;"
   ]
  },
  {
   "cell_type": "markdown",
   "metadata": {},
   "source": [
    "## Discrete random variables\n",
    "* Probability Mass Function (PMF)\n",
    "  * Pick a point and the PDF shows the probability of that point.\n",
    "* Cumulative Distribution Function (CDF)"
   ]
  },
  {
   "cell_type": "markdown",
   "metadata": {},
   "source": [
    "## Continuous random variables\n",
    "Continuous variables take on any value in an interval; that is, their **support** is (0,$\\infty$). To summarize the distribution of continuous variables, we commonly summarize center and spread. \n",
    "* Population average (mean), or the expected value, **measures center**\n",
    "$$\n",
    "\\mu = E(Y) = \\int_{-\\infty}^\\infty yf(y)dy\n",
    "$$\n",
    "$\\mu$ is the average value of the random variables we would get if we repeated the experiment again and again. With discrete random values, we multiplied values by their probabilities and summed them. With continuous variables, since each individual value has a probability of 0, we take the value of _y_ and multiply it by its density value, f(y). \"y times f(y), integrated from negative infinity to infinity\".\n",
    "* Population variance (and standard deviation) **measure spread**. Standard deviation, which is the square root of variance, is in the units of our random variable and is often easier to interpret. It can be thought of as the average distance from the mean).\n",
    "$$\n",
    "\\sigma^2 = \\text{Var(Y)} = E[(Y-\\mu)^2] = E(Y^2)-[E(Y)]^2 \\\\\n",
    "\\sqrt{\\sigma^2} = \\sigma = \\text{SD(Y)}\n",
    "$$\n",
    "* We cannot assign a probability to any individual value (with an infinite number of fractional values, we cannot say that any one has a probability). \n",
    "* To describe their distributions, we need to look at the Probability Density Function (PDF) and the Cumulative Distribution Function (CDF).\n",
    "\n",
    "### PDF \n",
    "PDF = f(y) = smoothed curve that shows the \"relative likelihood\" of observing y; where the curve is higher, the tiny interval of values is more likely (even though every single value has probability 0). Probabilities in a PDF correspond to the **area under a curve** (more than the height of a single bar) and the total area under the curve must equal 1. \n",
    "    <center><img src=\"continuous_pdf.png\" style=\"width:400px\"/></center>\n",
    "    <center><img src=\"continuous_pdf_2.png\" style=\"width:400px\"/></center>\n",
    "    The value of the shaded blue area is the probability of us getting a value between 5 and 10 (i.e. the probability of us spending between 5-10 minutes reading a news article). Mathematically, this area is found using integration. \n",
    "    $$\n",
    "    P(a \\lt Y \\lt B) = \\int_a^b f(y)dy\n",
    "    $$\n",
    "    Individual PDF values can be larger than 1, but the total area under the curve must be 1.\n",
    "\n",
    "#### Example\n",
    "Consider a continuous random variable _X_ that denotes the time a person waits for an elevator to arrive. The PDF of _X_ is given by\n",
    "$$\n",
    "f(x) = \\left\\{\n",
    "\\begin{array}{ll}\n",
    "      x, & \\text{for } 0 \\le x \\le 1 \\\\\n",
    "      2-x, & \\text{for } 1 \\lt x \\le 2 \\\\\n",
    "      0, & \\text{otherwise} \\\\\n",
    "\\end{array} \n",
    "\\right.  \n",
    "$$\n",
    "\n",
    "The expected value of _X_, _E(X)_, is therefore\n",
    "$$\n",
    "E(X) = \\int_0^1 x\\cdot xdx + \\int_1^2 x\\cdot(2-x)dx = \\int_0^1 x^2dx + \\int_1^2 (2x-x^2)dx = \\frac{1}{3} + \\frac{2}{3} = 1\n",
    "$$\n",
    "Thus, we expect that a person will wait an average of 1 minute for the elevator.\n",
    "\n",
    "### CDF = F(y)\n",
    "The CDF is also an integral, but rather than being between two values, it is the probability that Y is _less than or equal to_ some value _k_.\n",
    "    $$\n",
    "    P(Y \\le k) = \\int_{-\\infty}^k f(y)dy\n",
    "    $$   \n",
    "\n",
    "### PDF vs. CDF \n",
    "$$\n",
    "P(Y \\le 6) = \\int_0^6 f(y)dy = 0.7898\n",
    "$$\n",
    "<center><img src=\"pdf_vs_cdf.png\" style=\"width:800px\"/></center>\n",
    "\n",
    "6 is the **0.79 quantile** or the **79th percentile** of the data, so 79% of our data is below 6. Other quantiles of interest include\n",
    "* Q1 = 1st quartile = 0.25 quantile = 25th percentile\n",
    "* Median = 0.5 quantile or 50th percentile. 50% of values are above our median and 50% of values are below our median, which gives us a good measure of center.\n",
    "* Q3 = 2nd quartile = 0.75 quantile = 75th percentile"
   ]
  },
  {
   "cell_type": "markdown",
   "metadata": {},
   "source": [
    "### Named continuous distributions\n",
    "<center><img src=\"continuous_distributions.png\" style=\"width:800px\"/></center>\n",
    "\n",
    "#### Uniform distribution\n",
    "Comparable to its discrete random variable counterpart. Every value between _a_ and _b_ is equally likely.  \n",
    "$$\n",
    "Y \\sim Unif(a,b) \\text{ or } Y \\sim U(a,b) \\\\\n",
    "f(y) = \\frac{1}{b-a}, \\text{ for } a \\lt y \\lt b \\\\\n",
    "E(Y) = \\frac{a+b}{2} \\text{ (the average of a and b)}\\\\\n",
    "Var(Y) = \\frac{(b-a)^2}{12} \\\\\n",
    "$$\n",
    "\n",
    "$Y\\sim U(0,1)$ is called the **standard uniform distribution**."
   ]
  },
  {
   "cell_type": "markdown",
   "metadata": {},
   "source": [
    "**Example uniform distributions**\n",
    "\n",
    "_Example 1_:\n",
    "\n",
    "<center><img src=\"example_uniform.png\" style=\"width:800px\"/></center>\n",
    "\n",
    "_Example 2_:\n",
    "\n",
    "Suppose the time it takes to \"Find Waldo\" is _equally likely_ to be anywhere from 0 to 60 seconds. Define Y as the time it takes to \"Find Waldo\". \n",
    "$$\n",
    "Y \\sim U(0,60) \\\\\n",
    "f(y) = \\frac{1}{60} \\text{ for } 0 \\lt y \\lt 60 \\\\\n",
    "E(Y) = \\frac{a+b}{2} = \\frac{0+60}{2} = 30 \\\\\n",
    "Var(Y) = \\frac{(b-a)^2}{12} = \\frac{(60-0)^2}{12} = 300\n",
    "$$"
   ]
  },
  {
   "cell_type": "code",
   "execution_count": null,
   "metadata": {},
   "outputs": [],
   "source": [
    "y=pdf('UNIFORM',0.25);"
   ]
  },
  {
   "cell_type": "markdown",
   "metadata": {},
   "source": [
    "### February 27\n",
    "## Multinomial distribution\n",
    "Assessing probability of multiple variables occuring at the same time. We make the same assumptions as for a binomial:\n",
    "* Trials result in only 1 of _k_ outcomes\n",
    "* Sequences of _n_ independent trials\n",
    "* Same probabilities associated with each trial\n",
    "\n",
    "\n",
    "**Example:** Among residential customers traveling from Raleigh to Washington, DC, there are three main choices:\n",
    "* Plane - 45% of travelers\n",
    "* Car/bus - 35% of travelers\n",
    "* Train - 20% of travelers\n",
    "\n",
    "If 12 randomly selected people travel, what is the probability that 5 travel by plane, 4 travel by car/bus, and 3 travel by train? \n",
    "\n",
    "**Answer:**\n",
    "Probabilities must sum to 1, _n_ is the number of independent trials, and _y_'s must sum to _n_. In this case\n",
    "$$\n",
    " y_1+y_2+y_3 = 5 + 4 + 3 = 12 \\\\\n",
    "$$\n",
    "The multinomial distribution is given by\n",
    "$$\n",
    "\\begin{pmatrix}\n",
    "Y_1 \\\\ Y_2 \\\\ Y_3\n",
    "\\end{pmatrix}\n",
    "\\sim multinomial(12,0.45,0.35,0.2) \\\\\n",
    "p(y_1,y_2,y_3) = p(5,4,3) = \\frac { 12! } { y_1!y_2!y_3! }0.45^{y_1}0.35^{y_2}0.2^{y_3} = \\frac { 12! } { y_1!y_2!y_3! }0.45^{5}0.35^{4}0.2^{3} = 0.0614\n",
    "$$"
   ]
  },
  {
   "cell_type": "markdown",
   "metadata": {},
   "source": [
    "#### Quiz\n",
    "---\n",
    "**$Q_{1}$:** Why is the multinomial considered a _joint_ distribution?\n",
    "\n",
    "**$A_{1}$:** The multinomial is concerned with the distribution of more than one random variable (RV).  This makes it a joint distribution!  Specifically, it is concerned with\n",
    "\n",
    "\n",
    "$Y_1$ = number of observations in category 1\n",
    "\n",
    "$Y_2$ = # of observations in category 2  \n",
    "...    \n",
    "$Y_k$ = # of observations in category _k_ \n",
    "\n",
    "---\n",
    "**$Q_{2}$:** How are the multinomial and the binomial related?\n",
    "\n",
    "**$A_{2}$:** Take one of the categories of the multinomial and label it a “success”. Label all the other categories a “failure”. The random variable corresponding to the number of observations falling into the success category is a binomial random variable. \n",
    "\n",
    "This is true if you look at any one random variable from the multinomial.  We say that ‘marginally’ each $Y_{i}$ follows a binomial.\n",
    "_________________________________________________________________________________________________"
   ]
  },
  {
   "cell_type": "markdown",
   "metadata": {},
   "source": [
    "## Contingency tables\n",
    "Contingency tables summarize the _frequency_ or the _proportion_ of observations that fall into a category (or a combination of categories when looking at multi-way tables).  \n",
    "* One-way tables summarize one variable\n",
    "* Two-way tables summarize two variables\n",
    "* _N_-way tables summarize _N_ variables, but these are more difficult to visualize"
   ]
  },
  {
   "cell_type": "markdown",
   "metadata": {},
   "source": [
    "## Conditional probability ideas\n",
    "With more than one variable, we can also consider conditional probabilities. For instance, what is the probability that a passenger survives _given that_ (|) they embarked on a journey at port _S_? Compare this against the probability that a passenger survives overall ($P$(passenger survives)).\n",
    "\n",
    "<div class=\"alert alert-block alert-success\">\n",
    "<b>Conditional example:</b> The probability that a passenger survives given that they embarked on a journey at port S.\n",
    "<br>\n",
    "    <br><center>$P$(passenger survives $\\mid$ embarked at port S)</center>\n",
    "</div>\n",
    "<center><img src=\"conditional_probability.png\" style=\"width:400px\"/></center>"
   ]
  },
  {
   "cell_type": "markdown",
   "metadata": {},
   "source": [
    "More generally, if we consider two events _A_ and _B_ that may occur, the conditional probability of event A _given that_ (|) event B has occurred is defined as\n",
    "\n",
    "$$\n",
    "P(A \\mid B) = \\frac { P(A \\cap B) } { P(B) } = \\frac { P(A {\\sf and} B) } { P(B) }\n",
    "$$\n",
    "<center><img src=\"conditional_probability_venn.png\" style=\"width:400px\"/></center>\n",
    "\n",
    "Conversely, the conditional probability of B _given that_ (|) A has occurred is defined as\n",
    "\n",
    "$$\n",
    "P(B \\mid A) = \\frac { P(A \\cap B) } { P(A) } = \\frac { P(A {\\sf and} B) } { P(A) }\n",
    "$$\n",
    "Notice that the denominator is what we are conditioning upon. Referring back to the SAS contingency table, the probability that a passenger survives given that they embarked from port _S_ is given by \n",
    "\n",
    "$$\n",
    "P(\\text{survives} \\mid \\text{embarks from port S}) = \\frac { P(\\text{survives and embarks from port S}) } { P(\\text{embarks from port S}) } = \\frac { 304 } { 914 }\n",
    "$$\n",
    "<center><img src=\"survives_and_embarks.png\" style=\"width:400px\"/></center>"
   ]
  },
  {
   "cell_type": "markdown",
   "metadata": {},
   "source": [
    "## Multiplication law\n",
    "<div class=\"alert alert-block alert-success\">\n",
    "<b>Tip:</b> The <b>generic</b> multiplication law is\n",
    "<br>$P(A \\cap B) = P(A \\mid B)P(B)$. \n",
    "<br> and\n",
    "<br>$P(A \\cap B) = P(B \\mid A)P(A)$\n",
    "</div>\n",
    "\n",
    "We get this by re-writing the conditional probability equation as\n",
    "\n",
    "$$\n",
    "P(A \\cap B) = P(A \\mid B)P(B)\n",
    "$$\n",
    "\n",
    "and\n",
    "\n",
    "$$\n",
    "P(A \\cap B) = P(B \\mid A)P(A)\n",
    "$$\n",
    "\n",
    "If conditioning on something does _not_ change my probability, then we have **independent events**! That is, if\n",
    "\n",
    "$$\n",
    "P(A \\cap B) = P(A)\n",
    "$$\n",
    "\n",
    "$$\n",
    "P(A \\cap B) = P(B)\n",
    "$$\n",
    "\n",
    "$$\n",
    "P(A \\cap B) = P(A)P(B) \n",
    "$$\n",
    "\n",
    "and A and B are independent. That is, _A_ happening has no impact on _B_ happening across observations and knowing _A_ does not tell us about the probabilities of any other observations. Another way of saying this is that we have an **independent and identically distributed (iid)** sample. \n",
    "\n",
    "<div class=\"alert alert-block alert-success\">\n",
    "<b>Tip:</b> If we know that our events are independent, the multiplication law for <b>independent events</b> is\n",
    "<br>$P(A \\cap B) = P(A)P(B)$. \n",
    "</div>\n",
    "\n",
    "With our port example, if the probability of surviving given that we embarked from S port was the same as the _overall_ probability of survival, it would not matter whether or not we embarked from port S; we would still survive with the same probability. \n",
    "\n",
    "<center><img src=\"independence_example.png\" style=\"width:400px\"/></center>\n",
    "<center><img src=\"independence_example_2.png\" style=\"width:400px\"/></center>\n"
   ]
  },
  {
   "cell_type": "markdown",
   "metadata": {},
   "source": [
    "#### Quiz\n",
    "**$Q_{2}$:** What is the idea of statistical independence?\n",
    "\n",
    "**$A_{2}$:** Statistical independence is the idea that knowledge of one event tells us nothing about the probabilities associated with another event.  That is, we don’t know any more about the 2nd event given knowledge of the 1st event. \n",
    "\n",
    "---\n",
    "\n",
    "**$Q_{3}$:** Suppose the probability that it rains on Saturday is 0.25 and the probability that it rains on Sunday is 0.25.  The probability that it rains on the weekend is then $P(\\text{Rain on Sunday OR Rain on Saturday}) = P(\\text{Rain on Sunday}) + P(\\text{Rain on Saturday}) – P(\\text{Rain on Saturday AND Rain on Sunday})$. \n",
    "\n",
    "**$A_{3}$:** No – this would only be the case if $P(\\text{Rain on Saturday AND Rain on Sunday}) = P(\\text{Rain on Saturday})P(\\text{Rain on Sunday})$.  This would be true if it raining on Saturday was independent of it raining on Sunday.  This is highly unlikely.  Many times there are storms that can last multiple days.  This means that knowing it is raining on Saturday may change our probabilities associated with it raining on Sunday. \n",
    "\n",
    "---\n",
    "\n",
    "**$Q_{4}$:** Are the terms ‘Random Sample’ and ‘iid’ equivalent?\n",
    "\n",
    "**$A_{4}$:** Yes! They both imply that our sample comes from the same distribution (identically distributed) and that the individual variables are independent of one another.\n",
    "\n",
    "---\n",
    "\n",
    "**$Q_{5}$:** How does the multiplication law/rule <br>$P(A \\cap B) = P(A)P(B)$ apply to joint distributions from a random sample?\n",
    "\n",
    "**$A_{5}$:** Similar to the multiplication law/rule, the joint distribution of $Y_1$ and $Y_2$ can be written as $f(y_1,y_2) = f(y_1)f(y_2)$.  This will be really important when we start looking at maximum likelihood!"
   ]
  },
  {
   "cell_type": "markdown",
   "metadata": {},
   "source": [
    "### Hypergeometric\n",
    "In a hypergeometric distribution, the trials are **not independent**. If we have 10 total units, 3 of which are good and 7 of which are bad, we can sample 4 and define _Y_ as the number of good chosen units. \n",
    "\n",
    "$$ \n",
    "\\text{3 good} + \\text{7 bad} = \\text{10 total} \\\\\n",
    "\\textit{Y} = \\text{number of good}\n",
    "$$\n",
    "\n",
    "_Y_ is almost a Binomial but the trials are not independent! On our first trial, $P(success) = 3/10 = 0.3$. Given a success on the first trial (finding a good unit), $P(success) = 2/9 = 0.2222$. "
   ]
  },
  {
   "cell_type": "code",
   "execution_count": null,
   "metadata": {},
   "outputs": [],
   "source": []
  }
 ],
 "metadata": {
  "kernelspec": {
   "display_name": "Python 3",
   "language": "python",
   "name": "python3"
  },
  "language_info": {
   "codemirror_mode": {
    "name": "ipython",
    "version": 3
   },
   "file_extension": ".py",
   "mimetype": "text/x-python",
   "name": "python",
   "nbconvert_exporter": "python",
   "pygments_lexer": "ipython3",
   "version": "3.8.5"
  }
 },
 "nbformat": 4,
 "nbformat_minor": 5
}
